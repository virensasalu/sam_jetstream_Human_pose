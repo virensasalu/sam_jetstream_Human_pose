{
 "cells": [
  {
   "cell_type": "code",
   "execution_count": 4,
   "metadata": {},
   "outputs": [],
   "source": [
    "#!pip install gradio"
   ]
  },
  {
   "cell_type": "code",
   "execution_count": 1,
   "metadata": {},
   "outputs": [
    {
     "name": "stderr",
     "output_type": "stream",
     "text": [
      "/Users/virensasalu/miniconda3/lib/python3.12/site-packages/tqdm/auto.py:21: TqdmWarning: IProgress not found. Please update jupyter and ipywidgets. See https://ipywidgets.readthedocs.io/en/stable/user_install.html\n",
      "  from .autonotebook import tqdm as notebook_tqdm\n"
     ]
    }
   ],
   "source": [
    "import gradio as gr\n",
    "#print(\"Gradio imported successfully!\")"
   ]
  },
  {
   "cell_type": "code",
   "execution_count": 3,
   "metadata": {},
   "outputs": [],
   "source": [
    "#Placeholder functions\n",
    "def upload_person_image(person_image):\n",
    "    # \n",
    "\n",
    "  \n",
    "    return person_image\n",
    "\n",
    "def upload_garment_image(garment_image):\n",
    "    \n",
    "\n",
    "\n",
    "    return garment_image\n",
    "\n",
    "def generate_model_image(person_image, garment_image, description):\n",
    "    #\n",
    "\n",
    "\n",
    "    return person_image  \n",
    "\n",
    "def final_output(model_image):\n",
    "    #\n",
    "\n",
    "\n",
    "\n",
    "    return model_image "
   ]
  },
  {
   "cell_type": "code",
   "execution_count": 4,
   "metadata": {},
   "outputs": [],
   "source": [
    "def build_ui():\n",
    "    with gr.Blocks() as demo:\n",
    "        gr.Markdown(\n",
    "            \"\"\"\n",
    "            # FashionFlux Virtual Try On \\n\n",
    "            **FashionFlux**\n",
    "            \"\"\"\n",
    "        )\n",
    "\n",
    "        with gr.Row():\n",
    "            with gr.Column():\n",
    "                #Person Image\n",
    "                person_image = gr.Image(\n",
    "                    label=\"Upload an image (Person)\",\n",
    "                    type=\"pil\",\n",
    "                    elem_id=\"person_image\"\n",
    "                )\n",
    "                btn_upload_person = gr.Button(\"Upload Person Image\")\n",
    "            \n",
    "            with gr.Column():\n",
    "                #Garment\n",
    "                garment_image = gr.Image(\n",
    "                    label=\"Garment\",\n",
    "                    type=\"pil\",\n",
    "                    elem_id=\"garment_image\"\n",
    "                )\n",
    "                btn_upload_garment = gr.Button(\"Upload Garment Image\")\n",
    "\n",
    "            with gr.Column():\n",
    "                #Model Image Output\n",
    "                model_image = gr.Image(\n",
    "                    label=\"Model Image Output\",\n",
    "                    type=\"pil\",\n",
    "                    elem_id=\"model_image\"\n",
    "                )\n",
    "                btn_generate_model = gr.Button(\"Generate Model Image\")\n",
    "\n",
    "            with gr.Column():\n",
    "                #Final Output\n",
    "                final_result = gr.Image(\n",
    "                    label=\"Output\",\n",
    "                    type=\"pil\",\n",
    "                    elem_id=\"final_output\"\n",
    "                )\n",
    "                btn_generate_final = gr.Button(\"Generate Final Output\")\n",
    "\n",
    "        #Description text box \n",
    "        garment_description = gr.Textbox(\n",
    "            label=\"Description of Garment\",\n",
    "            placeholder=\"e.g. Short Sleeve, Round Neck, T-Shirt\" #can use whatever we want. \n",
    "        )\n",
    "\n",
    "        \n",
    "\n",
    "        #using buttons to placeholder functions\n",
    "        btn_upload_person.click(\n",
    "            fn=upload_person_image,\n",
    "            inputs=[person_image],\n",
    "            outputs=[person_image]\n",
    "        )\n",
    "\n",
    "        btn_upload_garment.click(\n",
    "            fn=upload_garment_image,\n",
    "            inputs=[garment_image],\n",
    "            outputs=[garment_image]\n",
    "        )\n",
    "\n",
    "        btn_generate_model.click(\n",
    "            fn=generate_model_image,\n",
    "            inputs=[person_image, garment_image, garment_description],\n",
    "            outputs=[model_image]\n",
    "        )\n",
    "\n",
    "        btn_generate_final.click(\n",
    "            fn=final_output,\n",
    "            inputs=[model_image],\n",
    "            outputs=[final_result]\n",
    "        )\n",
    "\n",
    "    return demo\n"
   ]
  },
  {
   "cell_type": "code",
   "execution_count": 5,
   "metadata": {},
   "outputs": [
    {
     "name": "stdout",
     "output_type": "stream",
     "text": [
      "* Running on local URL:  http://127.0.0.1:7860\n",
      "\n",
      "To create a public link, set `share=True` in `launch()`.\n"
     ]
    },
    {
     "data": {
      "text/html": [
       "<div><iframe src=\"http://127.0.0.1:7860/\" width=\"100%\" height=\"500\" allow=\"autoplay; camera; microphone; clipboard-read; clipboard-write;\" frameborder=\"0\" allowfullscreen></iframe></div>"
      ],
      "text/plain": [
       "<IPython.core.display.HTML object>"
      ]
     },
     "metadata": {},
     "output_type": "display_data"
    }
   ],
   "source": [
    "if __name__ == \"__main__\":\n",
    "    demo_app = build_ui()\n",
    "    demo_app.launch()\n",
    "\n",
    "    #can lauch"
   ]
  }
 ],
 "metadata": {
  "kernelspec": {
   "display_name": "base",
   "language": "python",
   "name": "python3"
  },
  "language_info": {
   "codemirror_mode": {
    "name": "ipython",
    "version": 3
   },
   "file_extension": ".py",
   "mimetype": "text/x-python",
   "name": "python",
   "nbconvert_exporter": "python",
   "pygments_lexer": "ipython3",
   "version": "3.12.2"
  }
 },
 "nbformat": 4,
 "nbformat_minor": 2
}
